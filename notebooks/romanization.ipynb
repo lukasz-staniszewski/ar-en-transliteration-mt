{
 "cells": [
  {
   "cell_type": "code",
   "execution_count": 1,
   "metadata": {},
   "outputs": [],
   "source": [
    "import pandas as pd"
   ]
  },
  {
   "cell_type": "code",
   "execution_count": 2,
   "metadata": {},
   "outputs": [
    {
     "name": "stderr",
     "output_type": "stream",
     "text": [
      "'pwd' is not recognized as an internal or external command,\n",
      "operable program or batch file.\n"
     ]
    }
   ],
   "source": []
  },
  {
   "cell_type": "code",
   "execution_count": 17,
   "metadata": {},
   "outputs": [
    {
     "name": "stdout",
     "output_type": "stream",
     "text": [
      "training mle with: data/processed/train.tsv\n",
      "train size_ratio: 1.0\n",
      "train size # of sentences: 479726.0\n",
      "# of misaligned sentences skipped: 10433\n",
      "# of tokens skipped becauses nonpunc maps to punc: 30\n",
      "train size # of tokens 2199484\n",
      "  100.01 s in main()\n"
     ]
    }
   ],
   "source": [
    "!python src/loc_transcribe.py train mle --size 1.0"
   ]
  },
  {
   "cell_type": "code",
   "execution_count": 3,
   "metadata": {},
   "outputs": [
    {
     "name": "stdout",
     "output_type": "stream",
     "text": [
      "    2.70 s in main()\n"
     ]
    }
   ],
   "source": [
    "!python src/loc_transcribe.py predict mle dev --mle_model models/mle/size1.0.tsv --backoff predictions_out/simple/dev/simple.out"
   ]
  },
  {
   "cell_type": "code",
   "execution_count": 27,
   "metadata": {},
   "outputs": [],
   "source": [
    "with open(\"data/processed/train_ar.tsv\", \"w\") as wf:\n",
    "    with open(\"../processed_data/train_ar.txt\", \"r\") as rf:\n",
    "        wf.write(\"sentID\\tar\\n\")\n",
    "        for i, line in enumerate(rf):\n",
    "            wf.write(f\"{i}\\t{line}\")\n",
    "        "
   ]
  },
  {
   "cell_type": "code",
   "execution_count": 37,
   "metadata": {},
   "outputs": [
    {
     "name": "stdout",
     "output_type": "stream",
     "text": [
      "    1.64 s in main()\n"
     ]
    }
   ],
   "source": [
    "!python src/loc_transcribe.py predict mle data/processed/train_ar.tsv predictions_out/mle_simple/train_ar -b translit_simple"
   ]
  },
  {
   "cell_type": "code",
   "execution_count": 33,
   "metadata": {},
   "outputs": [],
   "source": [
    "with open(\"data/processed/val_ar.tsv\", \"w\") as wf:\n",
    "    with open(\"../processed_data/val_ar.txt\", \"r\") as rf:\n",
    "        wf.write(\"sentID\\tar\\n\")\n",
    "        for i, line in enumerate(rf):\n",
    "            wf.write(f\"{i}\\t{line}\")"
   ]
  },
  {
   "cell_type": "code",
   "execution_count": 34,
   "metadata": {},
   "outputs": [
    {
     "name": "stdout",
     "output_type": "stream",
     "text": [
      "  614.63 ms in main()\n"
     ]
    }
   ],
   "source": [
    "!python src/loc_transcribe.py predict mle data/processed/val_ar.tsv predictions_out/mle_simple/val_ar -b translit_simple"
   ]
  },
  {
   "cell_type": "code",
   "execution_count": 35,
   "metadata": {},
   "outputs": [],
   "source": [
    "with open(\"data/processed/test_ar.tsv\", \"w\") as wf:\n",
    "    with open(\"../processed_data/test_ar.txt\", \"r\") as rf:\n",
    "        wf.write(\"sentID\\tar\\n\")\n",
    "        for i, line in enumerate(rf):\n",
    "            wf.write(f\"{i}\\t{line}\")"
   ]
  },
  {
   "cell_type": "code",
   "execution_count": 36,
   "metadata": {},
   "outputs": [
    {
     "name": "stdout",
     "output_type": "stream",
     "text": [
      "  932.74 ms in main()\n"
     ]
    }
   ],
   "source": [
    "!python src/loc_transcribe.py predict mle data/processed/test_ar.tsv predictions_out/mle_simple/test_ar -b translit_simple"
   ]
  },
  {
   "cell_type": "code",
   "execution_count": null,
   "metadata": {},
   "outputs": [],
   "source": []
  }
 ],
 "metadata": {
  "interpreter": {
   "hash": "2d381337f0636c01494a2b48813f34f25a0e66e43a6b7237f996b3ac56efc62d"
  },
  "kernelspec": {
   "display_name": "Python 3.9.5 ('nlp-venv': venv)",
   "language": "python",
   "name": "python3"
  },
  "language_info": {
   "codemirror_mode": {
    "name": "ipython",
    "version": 3
   },
   "file_extension": ".py",
   "mimetype": "text/x-python",
   "name": "python",
   "nbconvert_exporter": "python",
   "pygments_lexer": "ipython3",
   "version": "3.9.5"
  },
  "orig_nbformat": 4
 },
 "nbformat": 4,
 "nbformat_minor": 2
}
