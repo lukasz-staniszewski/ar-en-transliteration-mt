{
 "cells": [
  {
   "cell_type": "markdown",
   "metadata": {},
   "source": [
    "### Notebook creates romanized datasets"
   ]
  },
  {
   "cell_type": "code",
   "execution_count": 1,
   "metadata": {},
   "outputs": [],
   "source": [
    "import pandas as pd"
   ]
  },
  {
   "cell_type": "code",
   "execution_count": 1,
   "metadata": {},
   "outputs": [],
   "source": [
    "!python src/loc_transcribe.py train mle --size 1.0"
   ]
  },
  {
   "cell_type": "code",
   "execution_count": 2,
   "metadata": {},
   "outputs": [],
   "source": [
    "!python src/loc_transcribe.py predict mle dev --mle_model models/mle/size1.0.tsv --backoff predictions_out/simple/dev/simple.out"
   ]
  },
  {
   "cell_type": "markdown",
   "metadata": {},
   "source": [
    "#### Validation set"
   ]
  },
  {
   "cell_type": "code",
   "execution_count": 12,
   "metadata": {},
   "outputs": [],
   "source": [
    "valid_ar_indexes = []\n",
    "with open(\"../data/processed/val.ar\", \"r\") as val_ar_file:\n",
    "    for i, line in enumerate(val_ar_file):\n",
    "        tmp_w_file = open(\"../data/romanized/tmp.txt\", 'w')\n",
    "        tmp_w_file.write(line)\n",
    "        tmp_w_file.close()\n",
    "        try:\n",
    "            tmp_df = pd.read_csv(\"../data/romanized/tmp.txt\", delimiter='\\t', header=None, on_bad_lines='skip')\n",
    "            if len(tmp_df) == 1:\n",
    "                valid_ar_indexes.append(i)\n",
    "        except Exception as e:\n",
    "            continue"
   ]
  },
  {
   "cell_type": "code",
   "execution_count": 13,
   "metadata": {},
   "outputs": [
    {
     "data": {
      "text/plain": [
       "306808"
      ]
     },
     "execution_count": 13,
     "metadata": {},
     "output_type": "execute_result"
    }
   ],
   "source": [
    "len(valid_ar_indexes)"
   ]
  },
  {
   "cell_type": "code",
   "execution_count": 14,
   "metadata": {},
   "outputs": [],
   "source": [
    "with open(\"../data/processed/val.ar\", \"r\") as val_ar_file:\n",
    "    with open(\"../data/romanized/val_ar.tsv\", \"w\") as wf:\n",
    "        wf.write(\"sentID\\tar\\n\")\n",
    "        for i, line in enumerate(val_ar_file):\n",
    "            if i in valid_ar_indexes:\n",
    "                wf.write(f\"{i}\\t{line}\")"
   ]
  },
  {
   "cell_type": "code",
   "execution_count": null,
   "metadata": {},
   "outputs": [],
   "source": [
    "!python src/loc_transcribe.py predict mle data/processed/val_ar.tsv predictions_out/mle_simple/transliterated --mle_model models/mle/size1.0.tsv --backoff translit_simple"
   ]
  },
  {
   "cell_type": "code",
   "execution_count": 16,
   "metadata": {},
   "outputs": [],
   "source": [
    "with open(\"../data/processed/val.en\", \"r\") as val_en_file:\n",
    "    with open(\"../data/romanized/val.en\", \"w\") as wf:\n",
    "        for i, line in enumerate(val_en_file):\n",
    "            if i in valid_ar_indexes:\n",
    "                wf.write(line)"
   ]
  },
  {
   "cell_type": "markdown",
   "metadata": {},
   "source": [
    "#### Train set"
   ]
  },
  {
   "cell_type": "code",
   "execution_count": 17,
   "metadata": {},
   "outputs": [],
   "source": [
    "valid_ar_indexes = []\n",
    "with open(\"../data/processed/train.ar\", \"r\") as train_ar_file:\n",
    "    for i, line in enumerate(train_ar_file):\n",
    "        tmp_w_file = open(\"../data/romanized/tmp.txt\", 'w')\n",
    "        tmp_w_file.write(line)\n",
    "        tmp_w_file.close()\n",
    "        try:\n",
    "            tmp_df = pd.read_csv(\"../data/romanized/tmp.txt\", delimiter='\\t', header=None, on_bad_lines='skip')\n",
    "            if len(tmp_df) == 1:\n",
    "                # valid linijka\n",
    "                valid_ar_indexes.append(i)\n",
    "        except Exception as e:\n",
    "            continue"
   ]
  },
  {
   "cell_type": "code",
   "execution_count": 18,
   "metadata": {},
   "outputs": [
    {
     "data": {
      "text/plain": [
       "2761017"
      ]
     },
     "execution_count": 18,
     "metadata": {},
     "output_type": "execute_result"
    }
   ],
   "source": [
    "len(valid_ar_indexes)"
   ]
  },
  {
   "cell_type": "code",
   "execution_count": 19,
   "metadata": {},
   "outputs": [],
   "source": [
    "with open(\"../data/processed/train.ar\", \"r\") as train_ar_file:\n",
    "    with open(\"../data/romanized/train_ar.tsv\", \"w\") as wf:\n",
    "        wf.write(\"sentID\\tar\\n\")\n",
    "        for i, line in enumerate(train_ar_file):\n",
    "            if i in valid_ar_indexes:\n",
    "                wf.write(f\"{i}\\t{line}\")"
   ]
  },
  {
   "cell_type": "code",
   "execution_count": 3,
   "metadata": {},
   "outputs": [],
   "source": [
    "!python src/loc_transcribe.py predict mle ../data/romanized/train_ar.tsv ../data/romanized --mle_model models/mle/size1.0.tsv --backoff translit_simple"
   ]
  },
  {
   "cell_type": "code",
   "execution_count": 21,
   "metadata": {},
   "outputs": [],
   "source": [
    "with open(\"../data/processed/train.en\", \"r\") as train_en_file:\n",
    "    with open(\"../data/romanized/train.en\", \"w\") as wf:\n",
    "        for i, line in enumerate(train_en_file):\n",
    "            if i in valid_ar_indexes:\n",
    "                wf.write(line)"
   ]
  },
  {
   "cell_type": "markdown",
   "metadata": {},
   "source": [
    "#### Test set"
   ]
  },
  {
   "cell_type": "code",
   "execution_count": 22,
   "metadata": {},
   "outputs": [],
   "source": [
    "valid_ar_indexes = []\n",
    "with open(\"../data/processed/test.ar\", \"r\") as test_ar_file:\n",
    "    for i, line in enumerate(test_ar_file):\n",
    "        tmp_w_file = open(\"../data/romanized/tmp.txt\", 'w')\n",
    "        tmp_w_file.write(line)\n",
    "        tmp_w_file.close()\n",
    "        try:\n",
    "            tmp_df = pd.read_csv(\"../data/romanized/tmp.txt\", delimiter='\\t', header=None, on_bad_lines='skip')\n",
    "            if len(tmp_df) == 1:\n",
    "                valid_ar_indexes.append(i)\n",
    "        except Exception as e:\n",
    "            continue"
   ]
  },
  {
   "cell_type": "code",
   "execution_count": 23,
   "metadata": {},
   "outputs": [
    {
     "data": {
      "text/plain": [
       "140689"
      ]
     },
     "execution_count": 23,
     "metadata": {},
     "output_type": "execute_result"
    }
   ],
   "source": [
    "len(valid_ar_indexes)"
   ]
  },
  {
   "cell_type": "code",
   "execution_count": 24,
   "metadata": {},
   "outputs": [],
   "source": [
    "with open(\"../data/processed/test.ar\", \"r\") as test_ar_file:\n",
    "    with open(\"../data/romanized/test_ar.tsv\", \"w\") as wf:\n",
    "        wf.write(\"sentID\\tar\\n\")\n",
    "        for i, line in enumerate(test_ar_file):\n",
    "            if i in valid_ar_indexes:\n",
    "                wf.write(f\"{i}\\t{line}\")"
   ]
  },
  {
   "cell_type": "code",
   "execution_count": 4,
   "metadata": {},
   "outputs": [],
   "source": [
    "!python src/loc_transcribe.py predict mle ../data/romanized/test_ar.tsv ../data/romanized --mle_model models/mle/size1.0.tsv --backoff translit_simple"
   ]
  },
  {
   "cell_type": "code",
   "execution_count": 26,
   "metadata": {},
   "outputs": [],
   "source": [
    "with open(\"../data/processed/test.en\", \"r\") as test_en_file:\n",
    "    with open(\"../data/romanized/test.en\", \"w\") as wf:\n",
    "        for i, line in enumerate(test_en_file):\n",
    "            if i in valid_ar_indexes:\n",
    "                wf.write(line)"
   ]
  }
 ],
 "metadata": {
  "interpreter": {
   "hash": "39c42a58bc70e49ee35f5d1a736962339f1b141129455ae363fbc37fbb042dbf"
  },
  "kernelspec": {
   "display_name": "Python 3.8.10 ('venv': venv)",
   "language": "python",
   "name": "python3"
  },
  "language_info": {
   "codemirror_mode": {
    "name": "ipython",
    "version": 3
   },
   "file_extension": ".py",
   "mimetype": "text/x-python",
   "name": "python",
   "nbconvert_exporter": "python",
   "pygments_lexer": "ipython3",
   "version": "3.8.10"
  },
  "orig_nbformat": 4
 },
 "nbformat": 4,
 "nbformat_minor": 2
}
