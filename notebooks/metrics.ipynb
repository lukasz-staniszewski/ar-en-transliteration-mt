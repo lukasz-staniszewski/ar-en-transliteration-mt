{
 "cells": [
  {
   "cell_type": "markdown",
   "metadata": {},
   "source": [
    "# NOTEBOOK TAKING GENERATIONS MADE BY FAIRSEQ AND COUNTING METRICS"
   ]
  },
  {
   "cell_type": "markdown",
   "metadata": {},
   "source": [
    "### I. PREPARING PREDICTIONS"
   ]
  },
  {
   "cell_type": "code",
   "execution_count": 101,
   "metadata": {},
   "outputs": [],
   "source": [
    "import re\n",
    "import pandas as pd"
   ]
  },
  {
   "cell_type": "code",
   "execution_count": null,
   "metadata": {},
   "outputs": [],
   "source": [
    "MODEL_NAME = \"lstm\"\n",
    "# MODEL_NAME = \"transformer_tiny\""
   ]
  },
  {
   "cell_type": "code",
   "execution_count": 102,
   "metadata": {},
   "outputs": [],
   "source": [
    "GENERATIONS_FILE_PATH = \"./../predictions/outs_\" + MODEL_NAME +\"/generate-test.txt\"\n",
    "NEW_PREDICTIONS_FILE_PATH = \"./../model_scripts/outs_\" + MODEL_NAME + \"/predictions.txt\""
   ]
  },
  {
   "cell_type": "code",
   "execution_count": 103,
   "metadata": {},
   "outputs": [],
   "source": [
    "ids = []\n",
    "texts = []"
   ]
  },
  {
   "cell_type": "code",
   "execution_count": 104,
   "metadata": {},
   "outputs": [
    {
     "name": "stdout",
     "output_type": "stream",
     "text": [
      "CLOSE AT LINE 704022\n"
     ]
    }
   ],
   "source": [
    "ind = 0\n",
    "pattern = r\"([STHDP])-([0-9]*)\\t-[0-9\\.]*\\t(.*)$\"\n",
    "with open(GENERATIONS_FILE_PATH, \"r\",encoding=\"utf-8\") as file:\n",
    "    while True:\n",
    "        ind += 1\n",
    "        x = file.readline()\n",
    "        if not x:\n",
    "            print(\"CLOSE AT LINE \" + str(ind))\n",
    "            break\n",
    "        finds = re.findall(pattern,x)\n",
    "        if len(finds) == 0:\n",
    "            continue\n",
    "        letter, id, text = finds[0]\n",
    "        if letter=='H':\n",
    "            ids.append(int(id))\n",
    "            texts.append(text)\n",
    "        \n",
    "# print(x)"
   ]
  },
  {
   "cell_type": "code",
   "execution_count": 105,
   "metadata": {},
   "outputs": [],
   "source": [
    "df= pd.DataFrame({\"ind\": ids, \"text\": texts})"
   ]
  },
  {
   "cell_type": "code",
   "execution_count": 106,
   "metadata": {},
   "outputs": [
    {
     "data": {
      "text/html": [
       "<div>\n",
       "<style scoped>\n",
       "    .dataframe tbody tr th:only-of-type {\n",
       "        vertical-align: middle;\n",
       "    }\n",
       "\n",
       "    .dataframe tbody tr th {\n",
       "        vertical-align: top;\n",
       "    }\n",
       "\n",
       "    .dataframe thead th {\n",
       "        text-align: right;\n",
       "    }\n",
       "</style>\n",
       "<table border=\"1\" class=\"dataframe\">\n",
       "  <thead>\n",
       "    <tr style=\"text-align: right;\">\n",
       "      <th></th>\n",
       "      <th>ind</th>\n",
       "      <th>text</th>\n",
       "    </tr>\n",
       "  </thead>\n",
       "  <tbody>\n",
       "    <tr>\n",
       "      <th>0</th>\n",
       "      <td>88772</td>\n",
       "      <td>Isn't that beautiful?</td>\n",
       "    </tr>\n",
       "    <tr>\n",
       "      <th>1</th>\n",
       "      <td>118182</td>\n",
       "      <td>He was in the army.</td>\n",
       "    </tr>\n",
       "    <tr>\n",
       "      <th>2</th>\n",
       "      <td>118164</td>\n",
       "      <td>It's not that way.</td>\n",
       "    </tr>\n",
       "    <tr>\n",
       "      <th>3</th>\n",
       "      <td>105412</td>\n",
       "      <td>It's not the information.</td>\n",
       "    </tr>\n",
       "    <tr>\n",
       "      <th>4</th>\n",
       "      <td>103481</td>\n",
       "      <td>We just started.</td>\n",
       "    </tr>\n",
       "  </tbody>\n",
       "</table>\n",
       "</div>"
      ],
      "text/plain": [
       "      ind                       text\n",
       "0   88772      Isn't that beautiful?\n",
       "1  118182        He was in the army.\n",
       "2  118164         It's not that way.\n",
       "3  105412  It's not the information.\n",
       "4  103481           We just started."
      ]
     },
     "execution_count": 106,
     "metadata": {},
     "output_type": "execute_result"
    }
   ],
   "source": [
    "df.head()"
   ]
  },
  {
   "cell_type": "code",
   "execution_count": 107,
   "metadata": {},
   "outputs": [],
   "source": [
    "df.sort_values(\"ind\",ascending=True,inplace=True)"
   ]
  },
  {
   "cell_type": "code",
   "execution_count": 108,
   "metadata": {},
   "outputs": [
    {
     "data": {
      "text/html": [
       "<div>\n",
       "<style scoped>\n",
       "    .dataframe tbody tr th:only-of-type {\n",
       "        vertical-align: middle;\n",
       "    }\n",
       "\n",
       "    .dataframe tbody tr th {\n",
       "        vertical-align: top;\n",
       "    }\n",
       "\n",
       "    .dataframe thead th {\n",
       "        text-align: right;\n",
       "    }\n",
       "</style>\n",
       "<table border=\"1\" class=\"dataframe\">\n",
       "  <thead>\n",
       "    <tr style=\"text-align: right;\">\n",
       "      <th></th>\n",
       "      <th>ind</th>\n",
       "      <th>text</th>\n",
       "    </tr>\n",
       "  </thead>\n",
       "  <tbody>\n",
       "    <tr>\n",
       "      <th>139898</th>\n",
       "      <td>0</td>\n",
       "      <td>Steven Bilsten’s world says there is a strong ...</td>\n",
       "    </tr>\n",
       "    <tr>\n",
       "      <th>18667</th>\n",
       "      <td>1</td>\n",
       "      <td>The ocean can be very complex.</td>\n",
       "    </tr>\n",
       "    <tr>\n",
       "      <th>46348</th>\n",
       "      <td>2</td>\n",
       "      <td>It could be the health of human health. It's v...</td>\n",
       "    </tr>\n",
       "    <tr>\n",
       "      <th>128689</th>\n",
       "      <td>3</td>\n",
       "      <td>And so it may seem to be an important meeting ...</td>\n",
       "    </tr>\n",
       "    <tr>\n",
       "      <th>102455</th>\n",
       "      <td>4</td>\n",
       "      <td>And these are the mainstream ideas that are no...</td>\n",
       "    </tr>\n",
       "  </tbody>\n",
       "</table>\n",
       "</div>"
      ],
      "text/plain": [
       "        ind                                               text\n",
       "139898    0  Steven Bilsten’s world says there is a strong ...\n",
       "18667     1                     The ocean can be very complex.\n",
       "46348     2  It could be the health of human health. It's v...\n",
       "128689    3  And so it may seem to be an important meeting ...\n",
       "102455    4  And these are the mainstream ideas that are no..."
      ]
     },
     "execution_count": 108,
     "metadata": {},
     "output_type": "execute_result"
    }
   ],
   "source": [
    "df.head()"
   ]
  },
  {
   "cell_type": "code",
   "execution_count": 109,
   "metadata": {},
   "outputs": [
    {
     "data": {
      "text/plain": [
       "(140804, 2)"
      ]
     },
     "execution_count": 109,
     "metadata": {},
     "output_type": "execute_result"
    }
   ],
   "source": [
    "df.shape"
   ]
  },
  {
   "cell_type": "code",
   "execution_count": 110,
   "metadata": {},
   "outputs": [],
   "source": [
    "df['text'].to_csv(NEW_PREDICTIONS_FILE_PATH,header=None,index=None)"
   ]
  },
  {
   "cell_type": "markdown",
   "metadata": {},
   "source": [
    "### II. SACREBLEU"
   ]
  },
  {
   "cell_type": "code",
   "execution_count": 111,
   "metadata": {},
   "outputs": [
    {
     "name": "stdout",
     "output_type": "stream",
     "text": [
      "{\n",
      " \"name\": \"BLEU\",\n",
      " \"score\": 19.1803,\n",
      " \"signature\": \"nrefs:1|case:mixed|eff:no|tok:13a|smooth:exp|version:2.0.0\",\n",
      " \"verbose_score\": \"50.2/24.6/13.8/8.0 (BP = 1.000 ratio = 1.013 hyp_len = 2869219 ref_len = 2831143)\",\n",
      " \"nrefs\": \"1\",\n",
      " \"case\": \"mixed\",\n",
      " \"eff\": \"no\",\n",
      " \"tok\": \"13a\",\n",
      " \"smooth\": \"exp\",\n",
      " \"version\": \"2.0.0\"\n",
      "}\n",
      "\u001b[0m"
     ]
    }
   ],
   "source": [
    "!sacrebleu ../data/processed/test.en -i ../predictions/outs_$MODEL_NAME/predictions.txt -m bleu -w 4"
   ]
  },
  {
   "cell_type": "markdown",
   "metadata": {},
   "source": [
    "### III. CHRF"
   ]
  },
  {
   "cell_type": "code",
   "execution_count": 112,
   "metadata": {},
   "outputs": [
    {
     "name": "stdout",
     "output_type": "stream",
     "text": [
      "{\n",
      " \"name\": \"chrF2\",\n",
      " \"score\": 42.5705,\n",
      " \"signature\": \"nrefs:1|case:mixed|eff:yes|nc:6|nw:0|space:no|version:2.0.0\",\n",
      " \"nrefs\": \"1\",\n",
      " \"case\": \"mixed\",\n",
      " \"eff\": \"yes\",\n",
      " \"nc\": \"6\",\n",
      " \"nw\": \"0\",\n",
      " \"space\": \"no\",\n",
      " \"version\": \"2.0.0\"\n",
      "}\n",
      "\u001b[0m"
     ]
    }
   ],
   "source": [
    "!sacrebleu ../data/processed/test.en -i ../predictions/outs_$MODEL_NAME/predictions.txt -m chrf -w 4"
   ]
  },
  {
   "cell_type": "markdown",
   "metadata": {},
   "source": [
    "### IV. COMET\n",
    "+ Warning: you probably have to create new enviroment and\n",
    "```\n",
    "$ pip install unbabel-comet\n",
    "```"
   ]
  },
  {
   "cell_type": "code",
   "execution_count": 114,
   "metadata": {},
   "outputs": [
    {
     "name": "stdout",
     "output_type": "stream",
     "text": [
      "/home/luki/anaconda3/envs/nlp/lib/python3.9/site-packages/torchvision/io/image.py:13: UserWarning: Failed to load image Python extension: libtorch_cuda_cu.so: cannot open shared object file: No such file or directory\n",
      "  warn(f\"Failed to load image Python extension: {e}\")\n"
     ]
    }
   ],
   "source": [
    "!comet-score -r ../data/processed/test.en -t ../predictions/outs_$MODEL_NAME/predictions.txt -s ../data/processed/test.ar"
   ]
  }
 ],
 "metadata": {
  "interpreter": {
   "hash": "4a3dabe23df084530b04f3782d620c243bfa5ac3425a925fe7162a9382d38998"
  },
  "kernelspec": {
   "display_name": "Python 3.9.12 ('nlp')",
   "language": "python",
   "name": "python3"
  },
  "language_info": {
   "codemirror_mode": {
    "name": "ipython",
    "version": 3
   },
   "file_extension": ".py",
   "mimetype": "text/x-python",
   "name": "python",
   "nbconvert_exporter": "python",
   "pygments_lexer": "ipython3",
   "version": "3.9.12"
  },
  "orig_nbformat": 4
 },
 "nbformat": 4,
 "nbformat_minor": 2
}
