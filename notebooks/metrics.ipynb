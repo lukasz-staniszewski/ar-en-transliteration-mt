{
 "cells": [
  {
   "cell_type": "code",
   "execution_count": 85,
   "metadata": {},
   "outputs": [],
   "source": [
    "import re\n",
    "import pandas as pd"
   ]
  },
  {
   "cell_type": "code",
   "execution_count": 86,
   "metadata": {},
   "outputs": [],
   "source": [
    "outs_file_path = \"./../model_scripts/outs/generate-test.txt\"\n",
    "# outs_file_path = \"./../model_scripts/outs/test.txt\""
   ]
  },
  {
   "cell_type": "code",
   "execution_count": 87,
   "metadata": {},
   "outputs": [],
   "source": [
    "ids = []\n",
    "texts = []"
   ]
  },
  {
   "cell_type": "code",
   "execution_count": 88,
   "metadata": {},
   "outputs": [
    {
     "name": "stdout",
     "output_type": "stream",
     "text": [
      "CLOSE AT LINE 704022\n"
     ]
    }
   ],
   "source": [
    "ind = 0\n",
    "pattern = r\"([STHDP])-([0-9]*)\\t-[0-9\\.]*\\t(.*)$\"\n",
    "with open(outs_file_path, \"r\",encoding=\"utf-8\") as file:\n",
    "    while True:\n",
    "        ind += 1\n",
    "        x = file.readline()\n",
    "        if not x:\n",
    "            print(\"CLOSE AT LINE \" + str(ind))\n",
    "            break\n",
    "        finds = re.findall(pattern,x)\n",
    "        if len(finds) == 0:\n",
    "            continue\n",
    "        letter, id, text = finds[0]\n",
    "        if letter=='H':\n",
    "            ids.append(int(id))\n",
    "            texts.append(text)\n",
    "        \n",
    "# print(x)"
   ]
  },
  {
   "cell_type": "code",
   "execution_count": 89,
   "metadata": {},
   "outputs": [],
   "source": [
    "df= pd.DataFrame({\"ind\": ids, \"text\": texts})"
   ]
  },
  {
   "cell_type": "code",
   "execution_count": 90,
   "metadata": {},
   "outputs": [
    {
     "data": {
      "text/html": [
       "<div>\n",
       "<style scoped>\n",
       "    .dataframe tbody tr th:only-of-type {\n",
       "        vertical-align: middle;\n",
       "    }\n",
       "\n",
       "    .dataframe tbody tr th {\n",
       "        vertical-align: top;\n",
       "    }\n",
       "\n",
       "    .dataframe thead th {\n",
       "        text-align: right;\n",
       "    }\n",
       "</style>\n",
       "<table border=\"1\" class=\"dataframe\">\n",
       "  <thead>\n",
       "    <tr style=\"text-align: right;\">\n",
       "      <th></th>\n",
       "      <th>ind</th>\n",
       "      <th>text</th>\n",
       "    </tr>\n",
       "  </thead>\n",
       "  <tbody>\n",
       "    <tr>\n",
       "      <th>0</th>\n",
       "      <td>88772</td>\n",
       "      <td>Isn't that beautiful?</td>\n",
       "    </tr>\n",
       "    <tr>\n",
       "      <th>1</th>\n",
       "      <td>118182</td>\n",
       "      <td>He was in the army.</td>\n",
       "    </tr>\n",
       "    <tr>\n",
       "      <th>2</th>\n",
       "      <td>118164</td>\n",
       "      <td>It's not that way.</td>\n",
       "    </tr>\n",
       "    <tr>\n",
       "      <th>3</th>\n",
       "      <td>105412</td>\n",
       "      <td>It's not the information.</td>\n",
       "    </tr>\n",
       "    <tr>\n",
       "      <th>4</th>\n",
       "      <td>103481</td>\n",
       "      <td>We just started.</td>\n",
       "    </tr>\n",
       "    <tr>\n",
       "      <th>...</th>\n",
       "      <td>...</td>\n",
       "      <td>...</td>\n",
       "    </tr>\n",
       "    <tr>\n",
       "      <th>140799</th>\n",
       "      <td>5319</td>\n",
       "      <td>In the 1970s, a generous spirit of the Interne...</td>\n",
       "    </tr>\n",
       "    <tr>\n",
       "      <th>140800</th>\n",
       "      <td>72950</td>\n",
       "      <td>[ [ ] [ ] [ ] [ “The “Mazar Journalist” [ “On ...</td>\n",
       "    </tr>\n",
       "    <tr>\n",
       "      <th>140801</th>\n",
       "      <td>72952</td>\n",
       "      <td>[ ] [ ] [ ] [ ] [ “I’m Jesus Christ’s Jesus Ch...</td>\n",
       "    </tr>\n",
       "    <tr>\n",
       "      <th>140802</th>\n",
       "      <td>6001</td>\n",
       "      <td>“The next 249 – I see that “carry” is coming –...</td>\n",
       "    </tr>\n",
       "    <tr>\n",
       "      <th>140803</th>\n",
       "      <td>119697</td>\n",
       "      <td>Until Canada’s internal minister – at the time...</td>\n",
       "    </tr>\n",
       "  </tbody>\n",
       "</table>\n",
       "<p>140804 rows × 2 columns</p>\n",
       "</div>"
      ],
      "text/plain": [
       "           ind                                               text\n",
       "0        88772                              Isn't that beautiful?\n",
       "1       118182                                He was in the army.\n",
       "2       118164                                 It's not that way.\n",
       "3       105412                          It's not the information.\n",
       "4       103481                                   We just started.\n",
       "...        ...                                                ...\n",
       "140799    5319  In the 1970s, a generous spirit of the Interne...\n",
       "140800   72950  [ [ ] [ ] [ ] [ “The “Mazar Journalist” [ “On ...\n",
       "140801   72952  [ ] [ ] [ ] [ ] [ “I’m Jesus Christ’s Jesus Ch...\n",
       "140802    6001  “The next 249 – I see that “carry” is coming –...\n",
       "140803  119697  Until Canada’s internal minister – at the time...\n",
       "\n",
       "[140804 rows x 2 columns]"
      ]
     },
     "execution_count": 90,
     "metadata": {},
     "output_type": "execute_result"
    }
   ],
   "source": [
    "df.head()\n",
    "# df"
   ]
  },
  {
   "cell_type": "code",
   "execution_count": 91,
   "metadata": {},
   "outputs": [],
   "source": [
    "df.sort_values(\"ind\",ascending=True,inplace=True)"
   ]
  },
  {
   "cell_type": "code",
   "execution_count": 92,
   "metadata": {},
   "outputs": [
    {
     "data": {
      "text/html": [
       "<div>\n",
       "<style scoped>\n",
       "    .dataframe tbody tr th:only-of-type {\n",
       "        vertical-align: middle;\n",
       "    }\n",
       "\n",
       "    .dataframe tbody tr th {\n",
       "        vertical-align: top;\n",
       "    }\n",
       "\n",
       "    .dataframe thead th {\n",
       "        text-align: right;\n",
       "    }\n",
       "</style>\n",
       "<table border=\"1\" class=\"dataframe\">\n",
       "  <thead>\n",
       "    <tr style=\"text-align: right;\">\n",
       "      <th></th>\n",
       "      <th>ind</th>\n",
       "      <th>text</th>\n",
       "    </tr>\n",
       "  </thead>\n",
       "  <tbody>\n",
       "    <tr>\n",
       "      <th>139898</th>\n",
       "      <td>0</td>\n",
       "      <td>Steven Bilsten’s world says there is a strong ...</td>\n",
       "    </tr>\n",
       "    <tr>\n",
       "      <th>18667</th>\n",
       "      <td>1</td>\n",
       "      <td>The ocean can be very complex.</td>\n",
       "    </tr>\n",
       "    <tr>\n",
       "      <th>46348</th>\n",
       "      <td>2</td>\n",
       "      <td>It could be the health of human health. It's v...</td>\n",
       "    </tr>\n",
       "    <tr>\n",
       "      <th>128689</th>\n",
       "      <td>3</td>\n",
       "      <td>And so it may seem to be an important meeting ...</td>\n",
       "    </tr>\n",
       "    <tr>\n",
       "      <th>102455</th>\n",
       "      <td>4</td>\n",
       "      <td>And these are the mainstream ideas that are no...</td>\n",
       "    </tr>\n",
       "  </tbody>\n",
       "</table>\n",
       "</div>"
      ],
      "text/plain": [
       "        ind                                               text\n",
       "139898    0  Steven Bilsten’s world says there is a strong ...\n",
       "18667     1                     The ocean can be very complex.\n",
       "46348     2  It could be the health of human health. It's v...\n",
       "128689    3  And so it may seem to be an important meeting ...\n",
       "102455    4  And these are the mainstream ideas that are no..."
      ]
     },
     "execution_count": 92,
     "metadata": {},
     "output_type": "execute_result"
    }
   ],
   "source": [
    "df.head()"
   ]
  },
  {
   "cell_type": "code",
   "execution_count": 94,
   "metadata": {},
   "outputs": [
    {
     "data": {
      "text/plain": [
       "(140804, 2)"
      ]
     },
     "execution_count": 94,
     "metadata": {},
     "output_type": "execute_result"
    }
   ],
   "source": [
    "df.shape"
   ]
  },
  {
   "cell_type": "code",
   "execution_count": 96,
   "metadata": {},
   "outputs": [],
   "source": [
    "df['text'].to_csv(\"../model_scripts/outs/predictions.txt\",header=None,index=None)"
   ]
  },
  {
   "cell_type": "code",
   "execution_count": null,
   "metadata": {},
   "outputs": [],
   "source": []
  }
 ],
 "metadata": {
  "interpreter": {
   "hash": "4a3dabe23df084530b04f3782d620c243bfa5ac3425a925fe7162a9382d38998"
  },
  "kernelspec": {
   "display_name": "Python 3.9.12 ('nlp')",
   "language": "python",
   "name": "python3"
  },
  "language_info": {
   "codemirror_mode": {
    "name": "ipython",
    "version": 3
   },
   "file_extension": ".py",
   "mimetype": "text/x-python",
   "name": "python",
   "nbconvert_exporter": "python",
   "pygments_lexer": "ipython3",
   "version": "3.9.12"
  },
  "orig_nbformat": 4
 },
 "nbformat": 4,
 "nbformat_minor": 2
}
