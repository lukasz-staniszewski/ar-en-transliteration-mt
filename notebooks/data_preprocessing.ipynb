{
 "cells": [
  {
   "cell_type": "code",
   "execution_count": 1,
   "metadata": {},
   "outputs": [],
   "source": [
    "import string\n",
    "from functools import reduce\n",
    "from bs4 import BeautifulSoup\n",
    "import unidecode\n",
    "import contractions\n",
    "import os"
   ]
  },
  {
   "cell_type": "markdown",
   "metadata": {},
   "source": [
    "#### Download data"
   ]
  },
  {
   "cell_type": "code",
   "execution_count": 2,
   "metadata": {},
   "outputs": [],
   "source": [
    "os.makedirs(\"./data\", exist_ok=True)"
   ]
  },
  {
   "cell_type": "code",
   "execution_count": 9,
   "metadata": {},
   "outputs": [
    {
     "name": "stdout",
     "output_type": "stream",
     "text": [
      "--2022-04-05 21:36:59--  https://object.pouta.csc.fi/OPUS-CCMatrix/v1/moses/ar-en.txt.zip\n",
      "Resolving object.pouta.csc.fi (object.pouta.csc.fi)... 86.50.254.18, 86.50.254.19\n",
      "Connecting to object.pouta.csc.fi (object.pouta.csc.fi)|86.50.254.18|:443... connected.\n",
      "HTTP request sent, awaiting response... 200 OK\n",
      "Length: 5012858187 (4,7G) [application/zip]\n",
      "Saving to: ‘./data/ar-en.txt.zip’\n",
      "\n",
      "ar-en.txt.zip       100%[===================>]   4,67G  36,1MB/s    in 2m 28s  \n",
      "\n",
      "2022-04-05 21:39:27 (32,3 MB/s) - ‘./data/ar-en.txt.zip’ saved [5012858187/5012858187]\n",
      "\n"
     ]
    }
   ],
   "source": [
    "!wget -nc https://object.pouta.csc.fi/OPUS-CCMatrix/v1/moses/ar-en.txt.zip -P ./data"
   ]
  },
  {
   "cell_type": "code",
   "execution_count": 13,
   "metadata": {},
   "outputs": [
    {
     "name": "stdout",
     "output_type": "stream",
     "text": [
      "Archive:  ./data/ar-en.txt.zip\n",
      "  inflating: ./data/README           \n",
      "  inflating: ./data/LICENSE          \n",
      "  inflating: ./data/CCMatrix.ar-en.ar  \n",
      "  inflating: ./data/CCMatrix.ar-en.en  \n",
      "  inflating: ./data/CCMatrix.ar-en.scores  \n"
     ]
    }
   ],
   "source": [
    "!unzip -o ./data/ar-en.txt.zip -d ./data"
   ]
  },
  {
   "cell_type": "code",
   "execution_count": 14,
   "metadata": {},
   "outputs": [],
   "source": [
    "!rm -rf ./data/ar-en.txt.zip"
   ]
  },
  {
   "cell_type": "code",
   "execution_count": 15,
   "metadata": {},
   "outputs": [
    {
     "name": "stdout",
     "output_type": "stream",
     "text": [
      "--2022-04-05 21:44:11--  https://object.pouta.csc.fi/OPUS-OpenSubtitles/v2018/moses/ar-en.txt.zip\n",
      "Resolving object.pouta.csc.fi (object.pouta.csc.fi)... 86.50.254.18, 86.50.254.19\n",
      "Connecting to object.pouta.csc.fi (object.pouta.csc.fi)|86.50.254.18|:443... connected.\n",
      "HTTP request sent, awaiting response... 200 OK\n",
      "Length: 1014474587 (967M) [application/zip]\n",
      "Saving to: ‘./data/ar-en.txt.zip’\n",
      "\n",
      "ar-en.txt.zip       100%[===================>] 967,48M  47,6MB/s    in 30s     \n",
      "\n",
      "2022-04-05 21:44:41 (32,5 MB/s) - ‘./data/ar-en.txt.zip’ saved [1014474587/1014474587]\n",
      "\n"
     ]
    }
   ],
   "source": [
    "!wget -nc https://object.pouta.csc.fi/OPUS-OpenSubtitles/v2018/moses/ar-en.txt.zip -P ./data"
   ]
  },
  {
   "cell_type": "code",
   "execution_count": 16,
   "metadata": {},
   "outputs": [
    {
     "name": "stdout",
     "output_type": "stream",
     "text": [
      "Archive:  ./data/ar-en.txt.zip\n",
      "  inflating: ./data/OpenSubtitles.ar-en.ar  \n",
      "  inflating: ./data/OpenSubtitles.ar-en.en  \n",
      "  inflating: ./data/OpenSubtitles.ar-en.ids  \n",
      "  inflating: ./data/README           \n"
     ]
    }
   ],
   "source": [
    "!unzip -o ./data/ar-en.txt.zip -d ./data"
   ]
  },
  {
   "cell_type": "code",
   "execution_count": 17,
   "metadata": {},
   "outputs": [],
   "source": [
    "!rm -rf ./data/ar-en.txt.zip"
   ]
  },
  {
   "cell_type": "code",
   "execution_count": 18,
   "metadata": {},
   "outputs": [],
   "source": [
    "def remove_punctuations(text):\n",
    "    return \"\".join([c for c in text if c not in string.punctuation])"
   ]
  },
  {
   "cell_type": "code",
   "execution_count": 19,
   "metadata": {},
   "outputs": [
    {
     "data": {
      "text/plain": [
       "'Hello'"
      ]
     },
     "execution_count": 19,
     "metadata": {},
     "output_type": "execute_result"
    }
   ],
   "source": [
    "remove_punctuations(\"H()e?ll..o~,!\")"
   ]
  },
  {
   "cell_type": "code",
   "execution_count": 20,
   "metadata": {},
   "outputs": [],
   "source": [
    "def remove_extra_whitespaces(text):\n",
    "    return \" \".join(text.split())"
   ]
  },
  {
   "cell_type": "code",
   "execution_count": 21,
   "metadata": {},
   "outputs": [
    {
     "data": {
      "text/plain": [
       "'Hello1 hi2 hi3'"
      ]
     },
     "execution_count": 21,
     "metadata": {},
     "output_type": "execute_result"
    }
   ],
   "source": [
    "remove_extra_whitespaces(\"Hello1      hi2                      hi3\\n\")"
   ]
  },
  {
   "cell_type": "code",
   "execution_count": 22,
   "metadata": {},
   "outputs": [],
   "source": [
    "def remove_html_tags(text):\n",
    "    soup = BeautifulSoup(text, \"html.parser\")\n",
    "    stripped_text = soup.get_text(separator=\" \")\n",
    "    return stripped_text"
   ]
  },
  {
   "cell_type": "code",
   "execution_count": 23,
   "metadata": {},
   "outputs": [
    {
     "data": {
      "text/plain": [
       "'Hello Hi'"
      ]
     },
     "execution_count": 23,
     "metadata": {},
     "output_type": "execute_result"
    }
   ],
   "source": [
    "remove_html_tags(\"<br>Hello</br><p>Hi</p>\")"
   ]
  },
  {
   "cell_type": "code",
   "execution_count": 24,
   "metadata": {},
   "outputs": [],
   "source": [
    "def remove_accented_chars(text):\n",
    "    return unidecode.unidecode(text)"
   ]
  },
  {
   "cell_type": "code",
   "execution_count": 25,
   "metadata": {},
   "outputs": [
    {
     "data": {
      "text/plain": [
       "\"a partir de l'age\""
      ]
     },
     "execution_count": 25,
     "metadata": {},
     "output_type": "execute_result"
    }
   ],
   "source": [
    "remove_accented_chars(\"à partir de l'âge\")"
   ]
  },
  {
   "cell_type": "code",
   "execution_count": 26,
   "metadata": {},
   "outputs": [],
   "source": [
    "def expand_contractions(text):\n",
    "    \"\"\"expand shortened words, e.g. don't to do not\"\"\"\n",
    "    return contractions.fix(text)"
   ]
  },
  {
   "cell_type": "code",
   "execution_count": 27,
   "metadata": {},
   "outputs": [
    {
     "data": {
      "text/plain": [
       "'My baby does not want to eat vegetables'"
      ]
     },
     "execution_count": 27,
     "metadata": {},
     "output_type": "execute_result"
    }
   ],
   "source": [
    "expand_contractions(\"My baby doesn't want to eat vegetables\")"
   ]
  },
  {
   "cell_type": "code",
   "execution_count": 28,
   "metadata": {},
   "outputs": [],
   "source": [
    "PREPROCESSING_FUNCTIONS = [remove_punctuations, remove_extra_whitespaces, remove_html_tags]"
   ]
  },
  {
   "cell_type": "code",
   "execution_count": 29,
   "metadata": {},
   "outputs": [],
   "source": [
    "OPEN_SUBTITLES_SEN = 1000000\n",
    "CCMATRIX_SEN = 2000000"
   ]
  },
  {
   "cell_type": "code",
   "execution_count": 40,
   "metadata": {},
   "outputs": [],
   "source": [
    "def process_data(src_path, dst_path, num_lines, processing_fun):\n",
    "    with open(src_path, \"r\") as src_file:\n",
    "        os.makedirs(os.path.dirname(dst_path), exist_ok=True)\n",
    "        with open(dst_path, \"w\") as dst_file:\n",
    "            for i, line in enumerate(src_file):\n",
    "                processed_line = reduce(lambda a, f: f(a), processing_fun, line.lower().rstrip())      \n",
    "                dst_file.write(processed_line + \"\\n\")\n",
    "                \n",
    "                if i >= num_lines - 1:\n",
    "                    break"
   ]
  },
  {
   "cell_type": "code",
   "execution_count": 41,
   "metadata": {},
   "outputs": [
    {
     "name": "stderr",
     "output_type": "stream",
     "text": [
      "/home/bartosz/code/ar-en-transliteration-mt/venv/lib/python3.8/site-packages/bs4/__init__.py:337: MarkupResemblesLocatorWarning: \"data\" looks like a directory name, not markup. You may want to open a file found in this directory and pass the filehandle into Beautiful Soup.\n",
      "  warnings.warn(\n"
     ]
    }
   ],
   "source": [
    "process_data(\"./data/OpenSubtitles.ar-en.en\", \"./processed_data/OpenSubtitles_processed_en.txt\", OPEN_SUBTITLES_SEN, PREPROCESSING_FUNCTIONS)"
   ]
  },
  {
   "cell_type": "code",
   "execution_count": 43,
   "metadata": {},
   "outputs": [],
   "source": [
    "process_data(\"./data/OpenSubtitles.ar-en.ar\", \"./processed_data/OpenSubtitles_processed_ar.txt\", OPEN_SUBTITLES_SEN, PREPROCESSING_FUNCTIONS)"
   ]
  },
  {
   "cell_type": "code",
   "execution_count": 44,
   "metadata": {},
   "outputs": [],
   "source": [
    "process_data(\"./data/CCMatrix.ar-en.en\", \"./processed_data/CCMatrix_processed_en.txt\", CCMATRIX_SEN, PREPROCESSING_FUNCTIONS)"
   ]
  },
  {
   "cell_type": "code",
   "execution_count": 45,
   "metadata": {},
   "outputs": [],
   "source": [
    "process_data(\"./data/CCMatrix.ar-en.ar\", \"./processed_data/CCMatrix_processed_ar.txt\", OPEN_SUBTITLES_SEN, PREPROCESSING_FUNCTIONS)"
   ]
  },
  {
   "cell_type": "code",
   "execution_count": null,
   "metadata": {},
   "outputs": [],
   "source": []
  }
 ],
 "metadata": {
  "interpreter": {
   "hash": "39c42a58bc70e49ee35f5d1a736962339f1b141129455ae363fbc37fbb042dbf"
  },
  "kernelspec": {
   "display_name": "Python 3.8.10 ('venv': venv)",
   "language": "python",
   "name": "python3"
  },
  "language_info": {
   "codemirror_mode": {
    "name": "ipython",
    "version": 3
   },
   "file_extension": ".py",
   "mimetype": "text/x-python",
   "name": "python",
   "nbconvert_exporter": "python",
   "pygments_lexer": "ipython3",
   "version": "3.8.10"
  },
  "orig_nbformat": 4
 },
 "nbformat": 4,
 "nbformat_minor": 2
}
